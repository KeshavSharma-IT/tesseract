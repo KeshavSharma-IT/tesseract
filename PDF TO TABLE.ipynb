{
 "cells": [
  {
   "cell_type": "code",
   "execution_count": 11,
   "metadata": {},
   "outputs": [],
   "source": [
    "from tabula import read_pdf\n",
    "from tabulate import tabulate"
   ]
  },
  {
   "cell_type": "code",
   "execution_count": 13,
   "metadata": {},
   "outputs": [
    {
     "name": "stderr",
     "output_type": "stream",
     "text": [
      "'pages' argument isn't specified.Will extract only from page 1 by default.\n",
      "Got stderr: Feb 13, 2022 11:03:14 PM org.apache.pdfbox.rendering.PDFRenderer suggestKCMS\n",
      "INFO: Your current java version is: 1.8.0_131\n",
      "Feb 13, 2022 11:03:14 PM org.apache.pdfbox.rendering.PDFRenderer suggestKCMS\n",
      "INFO: To get higher rendering speed on old java 1.8 or 9 versions,\n",
      "Feb 13, 2022 11:03:14 PM org.apache.pdfbox.rendering.PDFRenderer suggestKCMS\n",
      "INFO:   update to the latest 1.8 or 9 version (>= 1.8.0_191 or >= 9.0.4),\n",
      "Feb 13, 2022 11:03:14 PM org.apache.pdfbox.rendering.PDFRenderer suggestKCMS\n",
      "INFO:   or\n",
      "Feb 13, 2022 11:03:14 PM org.apache.pdfbox.rendering.PDFRenderer suggestKCMS\n",
      "INFO:   use the option -Dsun.java2d.cmm=sun.java2d.cmm.kcms.KcmsServiceProvider\n",
      "Feb 13, 2022 11:03:14 PM org.apache.pdfbox.rendering.PDFRenderer suggestKCMS\n",
      "INFO:   or call System.setProperty(\"sun.java2d.cmm\", \"sun.java2d.cmm.kcms.KcmsServiceProvider\")\n",
      "\n"
     ]
    },
    {
     "data": {
      "text/plain": [
       "[              BREADS & CEREALS               Portion size *  \\\n",
       " 0          Bagel ( 1 average )               140 cals (45g)   \n",
       " 1           Biscuit digestives        86 cals (per biscuit)   \n",
       " 2                   Jaffa cake        48 cals (per biscuit)   \n",
       " 3    Bread white (thick slice)       96  cals (1 slice 40g)   \n",
       " 4      Bread wholemeal (thick)       88  cals (1 slice 40g)   \n",
       " 5                     Chapatis                     250 cals   \n",
       " 6                   Cornflakes              130  cals (35g)   \n",
       " 7                 Crackerbread            17 cals per slice   \n",
       " 8               Cream crackers        35 cals (per cracker)   \n",
       " 9                     Crumpets        93 cals (per crumpet)   \n",
       " 10   Flapjacks basic fruit mix                     320 cals   \n",
       " 11           Macaroni (boiled)              238 cals (250g)   \n",
       " 12                      Muesli              195  cals (50g)   \n",
       " 13         Naan bread (normal)  300 cals (small plate size)   \n",
       " 14            Noodles (boiled)              175 cals (250g)   \n",
       " 15     Pasta ( normal boiled )              330 cals (300g)   \n",
       " 16   Pasta (wholemeal boiled )              315 cals (300g)   \n",
       " 17  Porridge oats (with water)              193 cals (350g)   \n",
       " 18         Potatoes** (boiled)              210 cals (300g)   \n",
       " 19          Potatoes** (roast)              420 cals (300g)   \n",
       " \n",
       "    per 100 grams (3.5 oz)  Unnamed: 0 energy content  \n",
       " 0                310 cals         NaN         Medium  \n",
       " 1                480 cals         NaN           High  \n",
       " 2                370 cals         NaN       Med-High  \n",
       " 3                240 cals         NaN         Medium  \n",
       " 4                220 cals         NaN        Low-med  \n",
       " 5                300 cals         NaN         Medium  \n",
       " 6                370 cals         NaN       Med-High  \n",
       " 7                325 cals         NaN    Low Calorie  \n",
       " 8                440 cals         NaN  Low / portion  \n",
       " 9                198 cals         NaN        Low-Med  \n",
       " 10               500 cals         NaN           High  \n",
       " 11                95 cals         NaN    Low calorie  \n",
       " 12               390 cals         NaN       Med-high  \n",
       " 13               320 cals         NaN         Medium  \n",
       " 14                70 cals         NaN    Low calorie  \n",
       " 15               110 cals         NaN    Low calorie  \n",
       " 16               105 cals         NaN    Low calorie  \n",
       " 17                55 cals         NaN    Low calorie  \n",
       " 18                70 cals         NaN    Low calorie  \n",
       " 19               140 cals         NaN         Medium  ]"
      ]
     },
     "execution_count": 13,
     "metadata": {},
     "output_type": "execute_result"
    }
   ],
   "source": [
    "df=read_pdf('Food Calories List.pdf',multiple_tables=True )\n",
    "df"
   ]
  },
  {
   "cell_type": "code",
   "execution_count": 3,
   "metadata": {},
   "outputs": [
    {
     "name": "stdout",
     "output_type": "stream",
     "text": [
      "[              BREADS & CEREALS               Portion size *  \\\n",
      "0          Bagel ( 1 average )               140 cals (45g)   \n",
      "1           Biscuit digestives        86 cals (per biscuit)   \n",
      "2                   Jaffa cake        48 cals (per biscuit)   \n",
      "3    Bread white (thick slice)       96  cals (1 slice 40g)   \n",
      "4      Bread wholemeal (thick)       88  cals (1 slice 40g)   \n",
      "5                     Chapatis                     250 cals   \n",
      "6                   Cornflakes              130  cals (35g)   \n",
      "7                 Crackerbread            17 cals per slice   \n",
      "8               Cream crackers        35 cals (per cracker)   \n",
      "9                     Crumpets        93 cals (per crumpet)   \n",
      "10   Flapjacks basic fruit mix                     320 cals   \n",
      "11           Macaroni (boiled)              238 cals (250g)   \n",
      "12                      Muesli              195  cals (50g)   \n",
      "13         Naan bread (normal)  300 cals (small plate size)   \n",
      "14            Noodles (boiled)              175 cals (250g)   \n",
      "15     Pasta ( normal boiled )              330 cals (300g)   \n",
      "16   Pasta (wholemeal boiled )              315 cals (300g)   \n",
      "17  Porridge oats (with water)              193 cals (350g)   \n",
      "18         Potatoes** (boiled)              210 cals (300g)   \n",
      "19          Potatoes** (roast)              420 cals (300g)   \n",
      "\n",
      "   per 100 grams (3.5 oz)  Unnamed: 0 energy content  \n",
      "0                310 cals         NaN         Medium  \n",
      "1                480 cals         NaN           High  \n",
      "2                370 cals         NaN       Med-High  \n",
      "3                240 cals         NaN         Medium  \n",
      "4                220 cals         NaN        Low-med  \n",
      "5                300 cals         NaN         Medium  \n",
      "6                370 cals         NaN       Med-High  \n",
      "7                325 cals         NaN    Low Calorie  \n",
      "8                440 cals         NaN  Low / portion  \n",
      "9                198 cals         NaN        Low-Med  \n",
      "10               500 cals         NaN           High  \n",
      "11                95 cals         NaN    Low calorie  \n",
      "12               390 cals         NaN       Med-high  \n",
      "13               320 cals         NaN         Medium  \n",
      "14                70 cals         NaN    Low calorie  \n",
      "15               110 cals         NaN    Low calorie  \n",
      "16               105 cals         NaN    Low calorie  \n",
      "17                55 cals         NaN    Low calorie  \n",
      "18                70 cals         NaN    Low calorie  \n",
      "19               140 cals         NaN         Medium  ]\n"
     ]
    }
   ],
   "source": [
    "print(df)"
   ]
  },
  {
   "cell_type": "code",
   "execution_count": 4,
   "metadata": {},
   "outputs": [],
   "source": [
    "import camelot"
   ]
  },
  {
   "cell_type": "code",
   "execution_count": 5,
   "metadata": {},
   "outputs": [
    {
     "ename": "OSError",
     "evalue": "Ghostscript is not installed. You can install it using the instructions here: https://camelot-py.readthedocs.io/en/master/user/install-deps.html",
     "output_type": "error",
     "traceback": [
      "\u001b[1;31m---------------------------------------------------------------------------\u001b[0m",
      "\u001b[1;31mOSError\u001b[0m                                   Traceback (most recent call last)",
      "\u001b[1;32m<ipython-input-5-69db953d9113>\u001b[0m in \u001b[0;36m<module>\u001b[1;34m\u001b[0m\n\u001b[1;32m----> 1\u001b[1;33m \u001b[0mtables\u001b[0m\u001b[1;33m=\u001b[0m\u001b[0mcamelot\u001b[0m\u001b[1;33m.\u001b[0m\u001b[0mread_pdf\u001b[0m\u001b[1;33m(\u001b[0m\u001b[1;34m\"Food Calories List.pdf\"\u001b[0m\u001b[1;33m)\u001b[0m\u001b[1;33m\u001b[0m\u001b[1;33m\u001b[0m\u001b[0m\n\u001b[0m",
      "\u001b[1;32m~\\anaconda3\\lib\\site-packages\\camelot\\io.py\u001b[0m in \u001b[0;36mread_pdf\u001b[1;34m(filepath, pages, password, flavor, suppress_stdout, layout_kwargs, **kwargs)\u001b[0m\n\u001b[0;32m    111\u001b[0m         \u001b[0mp\u001b[0m \u001b[1;33m=\u001b[0m \u001b[0mPDFHandler\u001b[0m\u001b[1;33m(\u001b[0m\u001b[0mfilepath\u001b[0m\u001b[1;33m,\u001b[0m \u001b[0mpages\u001b[0m\u001b[1;33m=\u001b[0m\u001b[0mpages\u001b[0m\u001b[1;33m,\u001b[0m \u001b[0mpassword\u001b[0m\u001b[1;33m=\u001b[0m\u001b[0mpassword\u001b[0m\u001b[1;33m)\u001b[0m\u001b[1;33m\u001b[0m\u001b[1;33m\u001b[0m\u001b[0m\n\u001b[0;32m    112\u001b[0m         \u001b[0mkwargs\u001b[0m \u001b[1;33m=\u001b[0m \u001b[0mremove_extra\u001b[0m\u001b[1;33m(\u001b[0m\u001b[0mkwargs\u001b[0m\u001b[1;33m,\u001b[0m \u001b[0mflavor\u001b[0m\u001b[1;33m=\u001b[0m\u001b[0mflavor\u001b[0m\u001b[1;33m)\u001b[0m\u001b[1;33m\u001b[0m\u001b[1;33m\u001b[0m\u001b[0m\n\u001b[1;32m--> 113\u001b[1;33m         tables = p.parse(\n\u001b[0m\u001b[0;32m    114\u001b[0m             \u001b[0mflavor\u001b[0m\u001b[1;33m=\u001b[0m\u001b[0mflavor\u001b[0m\u001b[1;33m,\u001b[0m\u001b[1;33m\u001b[0m\u001b[1;33m\u001b[0m\u001b[0m\n\u001b[0;32m    115\u001b[0m             \u001b[0msuppress_stdout\u001b[0m\u001b[1;33m=\u001b[0m\u001b[0msuppress_stdout\u001b[0m\u001b[1;33m,\u001b[0m\u001b[1;33m\u001b[0m\u001b[1;33m\u001b[0m\u001b[0m\n",
      "\u001b[1;32m~\\anaconda3\\lib\\site-packages\\camelot\\handlers.py\u001b[0m in \u001b[0;36mparse\u001b[1;34m(self, flavor, suppress_stdout, layout_kwargs, **kwargs)\u001b[0m\n\u001b[0;32m    174\u001b[0m             \u001b[0mparser\u001b[0m \u001b[1;33m=\u001b[0m \u001b[0mLattice\u001b[0m\u001b[1;33m(\u001b[0m\u001b[1;33m**\u001b[0m\u001b[0mkwargs\u001b[0m\u001b[1;33m)\u001b[0m \u001b[1;32mif\u001b[0m \u001b[0mflavor\u001b[0m \u001b[1;33m==\u001b[0m \u001b[1;34m\"lattice\"\u001b[0m \u001b[1;32melse\u001b[0m \u001b[0mStream\u001b[0m\u001b[1;33m(\u001b[0m\u001b[1;33m**\u001b[0m\u001b[0mkwargs\u001b[0m\u001b[1;33m)\u001b[0m\u001b[1;33m\u001b[0m\u001b[1;33m\u001b[0m\u001b[0m\n\u001b[0;32m    175\u001b[0m             \u001b[1;32mfor\u001b[0m \u001b[0mp\u001b[0m \u001b[1;32min\u001b[0m \u001b[0mpages\u001b[0m\u001b[1;33m:\u001b[0m\u001b[1;33m\u001b[0m\u001b[1;33m\u001b[0m\u001b[0m\n\u001b[1;32m--> 176\u001b[1;33m                 t = parser.extract_tables(\n\u001b[0m\u001b[0;32m    177\u001b[0m                     \u001b[0mp\u001b[0m\u001b[1;33m,\u001b[0m \u001b[0msuppress_stdout\u001b[0m\u001b[1;33m=\u001b[0m\u001b[0msuppress_stdout\u001b[0m\u001b[1;33m,\u001b[0m \u001b[0mlayout_kwargs\u001b[0m\u001b[1;33m=\u001b[0m\u001b[0mlayout_kwargs\u001b[0m\u001b[1;33m\u001b[0m\u001b[1;33m\u001b[0m\u001b[0m\n\u001b[0;32m    178\u001b[0m                 )\n",
      "\u001b[1;32m~\\anaconda3\\lib\\site-packages\\camelot\\parsers\\lattice.py\u001b[0m in \u001b[0;36mextract_tables\u001b[1;34m(self, filename, suppress_stdout, layout_kwargs)\u001b[0m\n\u001b[0;32m    419\u001b[0m             \u001b[1;32mreturn\u001b[0m \u001b[1;33m[\u001b[0m\u001b[1;33m]\u001b[0m\u001b[1;33m\u001b[0m\u001b[1;33m\u001b[0m\u001b[0m\n\u001b[0;32m    420\u001b[0m \u001b[1;33m\u001b[0m\u001b[0m\n\u001b[1;32m--> 421\u001b[1;33m         \u001b[0mself\u001b[0m\u001b[1;33m.\u001b[0m\u001b[0mbackend\u001b[0m\u001b[1;33m.\u001b[0m\u001b[0mconvert\u001b[0m\u001b[1;33m(\u001b[0m\u001b[0mself\u001b[0m\u001b[1;33m.\u001b[0m\u001b[0mfilename\u001b[0m\u001b[1;33m,\u001b[0m \u001b[0mself\u001b[0m\u001b[1;33m.\u001b[0m\u001b[0mimagename\u001b[0m\u001b[1;33m)\u001b[0m\u001b[1;33m\u001b[0m\u001b[1;33m\u001b[0m\u001b[0m\n\u001b[0m\u001b[0;32m    422\u001b[0m \u001b[1;33m\u001b[0m\u001b[0m\n\u001b[0;32m    423\u001b[0m         \u001b[0mself\u001b[0m\u001b[1;33m.\u001b[0m\u001b[0m_generate_table_bbox\u001b[0m\u001b[1;33m(\u001b[0m\u001b[1;33m)\u001b[0m\u001b[1;33m\u001b[0m\u001b[1;33m\u001b[0m\u001b[0m\n",
      "\u001b[1;32m~\\anaconda3\\lib\\site-packages\\camelot\\backends\\ghostscript_backend.py\u001b[0m in \u001b[0;36mconvert\u001b[1;34m(self, pdf_path, png_path, resolution)\u001b[0m\n\u001b[0;32m     29\u001b[0m     \u001b[1;32mdef\u001b[0m \u001b[0mconvert\u001b[0m\u001b[1;33m(\u001b[0m\u001b[0mself\u001b[0m\u001b[1;33m,\u001b[0m \u001b[0mpdf_path\u001b[0m\u001b[1;33m,\u001b[0m \u001b[0mpng_path\u001b[0m\u001b[1;33m,\u001b[0m \u001b[0mresolution\u001b[0m\u001b[1;33m=\u001b[0m\u001b[1;36m300\u001b[0m\u001b[1;33m)\u001b[0m\u001b[1;33m:\u001b[0m\u001b[1;33m\u001b[0m\u001b[1;33m\u001b[0m\u001b[0m\n\u001b[0;32m     30\u001b[0m         \u001b[1;32mif\u001b[0m \u001b[1;32mnot\u001b[0m \u001b[0mself\u001b[0m\u001b[1;33m.\u001b[0m\u001b[0minstalled\u001b[0m\u001b[1;33m(\u001b[0m\u001b[1;33m)\u001b[0m\u001b[1;33m:\u001b[0m\u001b[1;33m\u001b[0m\u001b[1;33m\u001b[0m\u001b[0m\n\u001b[1;32m---> 31\u001b[1;33m             raise OSError(\n\u001b[0m\u001b[0;32m     32\u001b[0m                 \u001b[1;34m\"Ghostscript is not installed. You can install it using the instructions\"\u001b[0m\u001b[1;33m\u001b[0m\u001b[1;33m\u001b[0m\u001b[0m\n\u001b[0;32m     33\u001b[0m                 \u001b[1;34m\" here: https://camelot-py.readthedocs.io/en/master/user/install-deps.html\"\u001b[0m\u001b[1;33m\u001b[0m\u001b[1;33m\u001b[0m\u001b[0m\n",
      "\u001b[1;31mOSError\u001b[0m: Ghostscript is not installed. You can install it using the instructions here: https://camelot-py.readthedocs.io/en/master/user/install-deps.html"
     ]
    }
   ],
   "source": [
    "tables=camelot.read_pdf(\"Food Calories List.pdf\")"
   ]
  },
  {
   "cell_type": "code",
   "execution_count": 9,
   "metadata": {},
   "outputs": [
    {
     "name": "stdout",
     "output_type": "stream",
     "text": [
      "b' Fish cake\\n 90 cals per cake\\n 200 cals\\n Medium\\n Fish fingers\\n 50 cals per piece\\n 220 cals\\n Medium\\n Gammon\\n 320 cals\\n 280 cals\\n Med\\n-High\\n Haddock fresh\\n 200 cals\\n 110 cals\\n Low calorie\\n Halibut fresh\\n 220 cals\\n 125 cals\\n Low calorie\\n Ha\\nm 6 cals\\n 240 cals\\n Medium\\n Herring fresh grilled\\n 300 cals\\n 200 cals\\n Medium\\n Kidney\\n 200 cals\\n 160 cals\\n Medium\\n Kipper\\n 200 cals\\n 120 cals\\n Low calorie\\n Liver\\n 200 cals\\n 150 cals\\n Medium\\n Liver\\n pate\\n 150 cals\\n 300 cals\\n Medium\\n Lamb (roast)\\n 300 cals\\n 300 cals\\n Med\\n-High\\n Lobster boiled\\n 200 cals\\n 100 cals\\n Low calorie\\n Luncheon meat\\n 300 cals\\n 400 cals\\n High\\n Mackeral\\n 320 cals\\n 300 cal\\ns Medium\\n Mussels\\n 90 cals\\n 90 cals\\n Low\\n-Med\\n Pheasant roast\\n 200 cals\\n 200 cals\\n Medium\\n Pilchards (tinned)\\n 140 cals\\n 140 cals\\n Medium\\n Prawns\\n 180 cals\\n 100 cals\\n Low\\n- Med\\n Pork \\n 320 cals\\n 290 cals\\n Med\\n-High\\n Pork pie\\n 320 cals\\n 450 cals\\n High\\n Rabbit\\n 200 cals\\n 180 cals\\n Medium\\n Salmon fresh\\n 220 cals\\n 180 cals\\n Medium\\n Sardines tinned in oil\\n 220 cals\\n 220 cals\\n Medium\\n Sardines in tomato sauce\\n 180 cals\\n 180 cals\\n Medium\\n Sausage pork fried\\n 250 cals\\n 320 cals\\n High\\n Sausage pork grilled\\n 220 cals\\n 280 cals\\n Med\\n-High\\n Sausage roll\\n 290 cals\\n 480 cals\\n High\\n Scampi fried in oil\\n 400 cals\\n 340 cals\\n High\\n Steak & kidney pie\\n 400 cals\\n 350 cals\\n High\\n '\n"
     ]
    }
   ],
   "source": [
    "import PyPDF2\n",
    "pdf_=open(\"Food Calories List.pdf\",'rb')\n",
    "read_pdf=PyPDF2.PdfFileReader(pdf_)\n",
    "num=read_pdf.getNumPages()\n",
    "page=read_pdf.getPage(2)\n",
    "page_content=page.extractText()\n",
    "print(page_content.encode('utf-8'))\n"
   ]
  },
  {
   "cell_type": "code",
   "execution_count": 14,
   "metadata": {},
   "outputs": [
    {
     "ename": "NameError",
     "evalue": "name 'tabula' is not defined",
     "output_type": "error",
     "traceback": [
      "\u001b[1;31m---------------------------------------------------------------------------\u001b[0m",
      "\u001b[1;31mNameError\u001b[0m                                 Traceback (most recent call last)",
      "\u001b[1;32m<ipython-input-14-b70399fd3fdd>\u001b[0m in \u001b[0;36m<module>\u001b[1;34m\u001b[0m\n\u001b[1;32m----> 1\u001b[1;33m \u001b[0mdf\u001b[0m\u001b[1;33m=\u001b[0m\u001b[0mtabula\u001b[0m\u001b[1;33m.\u001b[0m\u001b[0mread_pdf\u001b[0m\u001b[1;33m(\u001b[0m\u001b[1;34m'ast_sci_data_tables_sample.pdf'\u001b[0m\u001b[1;33m,\u001b[0m\u001b[0mpages\u001b[0m\u001b[1;33m=\u001b[0m\u001b[1;34m'1'\u001b[0m\u001b[1;33m)\u001b[0m\u001b[1;33m\u001b[0m\u001b[1;33m\u001b[0m\u001b[0m\n\u001b[0m",
      "\u001b[1;31mNameError\u001b[0m: name 'tabula' is not defined"
     ]
    }
   ],
   "source": [
    "df=tabula.read_pdf('ast_sci_data_tables_sample.pdf',pages='1')\n"
   ]
  }
 ],
 "metadata": {
  "kernelspec": {
   "display_name": "Python 3",
   "language": "python",
   "name": "python3"
  },
  "language_info": {
   "codemirror_mode": {
    "name": "ipython",
    "version": 3
   },
   "file_extension": ".py",
   "mimetype": "text/x-python",
   "name": "python",
   "nbconvert_exporter": "python",
   "pygments_lexer": "ipython3",
   "version": "3.8.5"
  }
 },
 "nbformat": 4,
 "nbformat_minor": 4
}
